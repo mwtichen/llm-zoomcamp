{
 "cells": [
  {
   "cell_type": "code",
   "execution_count": 1,
   "id": "f50db0c8-f928-43f1-b6a9-6c699bba9d34",
   "metadata": {},
   "outputs": [],
   "source": [
    "from openai import OpenAI"
   ]
  },
  {
   "cell_type": "code",
   "execution_count": 2,
   "id": "869a83dd-d2a6-4899-9dde-ee13c09a267b",
   "metadata": {},
   "outputs": [],
   "source": [
    "client = OpenAI()"
   ]
  },
  {
   "cell_type": "code",
   "execution_count": 3,
   "id": "ff6597ae-3ec1-44ba-9a55-789849e43d05",
   "metadata": {},
   "outputs": [],
   "source": [
    "response = client.chat.completions.create(\n",
    "    model = \"gpt-4o\",\n",
    "    messages=[{\"role\": \"user\", \"content\": \"Is it too late to join the course?\"}]\n",
    ")"
   ]
  },
  {
   "cell_type": "code",
   "execution_count": 8,
   "id": "eb047f44-5be6-4541-8948-f0c1aee0a2f3",
   "metadata": {},
   "outputs": [
    {
     "name": "stdout",
     "output_type": "stream",
     "text": [
      "I'm not sure which course you are referring to, but generally speaking, whether it's too late to join a course depends on several factors:\n",
      "\n",
      "1. **Enrollment Deadlines:** Many courses have specific deadlines for enrollment. Check the course website or contact the administration to find out if enrollment is still open.\n",
      "\n",
      "2. **Course Schedule:** Consider how far along the course is. If it’s well into the semester or session, joining late might be challenging since you could have missed important lectures or assignments.\n",
      "\n",
      "3. **Catch-up Policy:** Some courses allow late enrollment but have policies in place for catching up on missed work. Find out if there are resources like recorded lectures or notes that can help you get up to speed.\n",
      "\n",
      "4. **Instructor's Approval:** Sometimes, joining late might require permission from the instructor, especially if the course has limited seats or is in high demand.\n",
      "\n",
      "5. **Nature of the Course:** For self-paced or online courses, joining late might not be an issue since you can progress at your own pace.\n",
      "\n",
      "It’s best to reach out to the course provider or instructor directly to get precise information about the possibility of joining at this point.\n"
     ]
    }
   ],
   "source": [
    "print(response.choices[0].message.content)"
   ]
  },
  {
   "cell_type": "code",
   "execution_count": null,
   "id": "3f8f6d8c-fb27-44ee-8e4e-e6d451edb9da",
   "metadata": {},
   "outputs": [],
   "source": []
  }
 ],
 "metadata": {
  "kernelspec": {
   "display_name": "Python 3 (ipykernel)",
   "language": "python",
   "name": "python3"
  },
  "language_info": {
   "codemirror_mode": {
    "name": "ipython",
    "version": 3
   },
   "file_extension": ".py",
   "mimetype": "text/x-python",
   "name": "python",
   "nbconvert_exporter": "python",
   "pygments_lexer": "ipython3",
   "version": "3.12.1"
  }
 },
 "nbformat": 4,
 "nbformat_minor": 5
}
